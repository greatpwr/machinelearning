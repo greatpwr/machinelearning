{
 "cells": [
  {
   "cell_type": "code",
   "execution_count": 5,
   "metadata": {},
   "outputs": [
    {
     "name": "stdout",
     "output_type": "stream",
     "text": [
      "(4, 1)\n"
     ]
    }
   ],
   "source": [
    "import numpy as np\n",
    "\n",
    "A = np.random.randn(4,3)\n",
    "B = np.sum(A, axis = 1, keepdims = True)\n",
    "print (B.shape)\n"
   ]
  },
  {
   "cell_type": "code",
   "execution_count": 3,
   "metadata": {},
   "outputs": [
    {
     "name": "stdout",
     "output_type": "stream",
     "text": [
      "[[ 0.6845335 ]\n",
      " [ 1.8500246 ]\n",
      " [ 0.4940532 ]\n",
      " [ 0.35188171]]\n"
     ]
    }
   ],
   "source": [
    "print (B)\n"
   ]
  },
  {
   "cell_type": "code",
   "execution_count": 4,
   "metadata": {},
   "outputs": [
    {
     "name": "stdout",
     "output_type": "stream",
     "text": [
      "(12288, 45)\n"
     ]
    }
   ],
   "source": [
    "a = np.random.randn(12288, 150) # a.shape = (12288, 150)\n",
    "b = np.random.randn(150, 45) # b.shape = (150, 45)\n",
    "c = np.dot(a,b)\n",
    "\n",
    "print (c.shape)"
   ]
  },
  {
   "cell_type": "code",
   "execution_count": 9,
   "metadata": {},
   "outputs": [
    {
     "name": "stdout",
     "output_type": "stream",
     "text": [
      "[[  2.17232329  -0.03419104   0.11911408 ...,  10.58123081  -8.44745495\n",
      "    6.89312459]\n",
      " [  0.08937751  -0.21684069   1.55008472 ...,   3.5573595    9.18786487\n",
      "  -11.1181368 ]\n",
      " [  2.0954357   -1.04161315   1.43405281 ...,  30.03300538  -8.24398583\n",
      "    1.7783824 ]\n",
      " ..., \n",
      " [  9.10825896  21.62546872  -7.41007638 ...,  -0.91762485  18.27636274\n",
      "  -11.81141328]\n",
      " [-14.03499845  -6.59059722  11.00674811 ...,  10.81765383  -4.75435434\n",
      "   -2.53801487]\n",
      " [  3.09916388   3.69950337 -20.04115101 ...,  -4.87135327   0.91402482\n",
      "   -8.3244755 ]]\n",
      "[[ 2.17232329 -0.03419104  0.11911408 -0.27989   ]\n",
      " [ 0.08937751 -0.21684069  1.55008472 -0.34479249]\n",
      " [ 2.0954357  -1.04161315  1.43405281 -0.81315359]]\n"
     ]
    }
   ],
   "source": [
    "# a.shape = (3,4)\n",
    "# b.shape = (4,1)\n",
    "\n",
    "a = np.random.randn(3,4)\n",
    "b = np.random.randn(4,1)\n",
    "\n",
    "for i in range(3):\n",
    "  for j in range(4):\n",
    "    c[i][j] = a[i][j] + b[j]\n",
    "    \n",
    "print (c)\n",
    "\n",
    "d = a + b.T\n",
    "\n",
    "print (d)\n"
   ]
  },
  {
   "cell_type": "code",
   "execution_count": 11,
   "metadata": {},
   "outputs": [
    {
     "name": "stdout",
     "output_type": "stream",
     "text": [
      "(3, 3)\n"
     ]
    }
   ],
   "source": [
    "a = np.random.randn(3, 3)\n",
    "b = np.random.randn(3, 1)\n",
    "c = a*b\n",
    "\n",
    "print (c.shape)"
   ]
  },
  {
   "cell_type": "code",
   "execution_count": 13,
   "metadata": {},
   "outputs": [
    {
     "name": "stdout",
     "output_type": "stream",
     "text": [
      "[[-0.27314634  0.02620391  1.32409119]\n",
      " [ 1.05622463 -0.75941479 -0.60261958]\n",
      " [ 2.15924945  0.18367988 -2.39503043]]\n",
      "[[-0.02020956]\n",
      " [ 0.42492526]\n",
      " [ 0.38839369]]\n",
      "[[  5.52016708e-03  -5.29569382e-04  -2.67592988e-02]\n",
      " [  4.48816524e-01  -3.22694527e-01  -2.56068280e-01]\n",
      " [  8.38638868e-01   7.13401081e-02  -9.30214712e-01]]\n"
     ]
    }
   ],
   "source": [
    "print (a)\n",
    "print (b)\n",
    "print (c)"
   ]
  },
  {
   "cell_type": "code",
   "execution_count": null,
   "metadata": {
    "collapsed": true
   },
   "outputs": [],
   "source": []
  }
 ],
 "metadata": {
  "kernelspec": {
   "display_name": "Python 3",
   "language": "python",
   "name": "python3"
  },
  "language_info": {
   "codemirror_mode": {
    "name": "ipython",
    "version": 3
   },
   "file_extension": ".py",
   "mimetype": "text/x-python",
   "name": "python",
   "nbconvert_exporter": "python",
   "pygments_lexer": "ipython3",
   "version": "3.6.1"
  }
 },
 "nbformat": 4,
 "nbformat_minor": 2
}
